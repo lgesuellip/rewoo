{
 "cells": [
  {
   "cell_type": "code",
   "execution_count": 1,
   "metadata": {},
   "outputs": [],
   "source": [
    "%load_ext autoreload\n",
    "%autoreload 2"
   ]
  },
  {
   "cell_type": "code",
   "execution_count": 2,
   "metadata": {},
   "outputs": [],
   "source": [
    "import os\n",
    "from pprint import pprint\n",
    "from getpass import getpass\n",
    "\n",
    "from langchain_openai import ChatOpenAI\n",
    "\n",
    "from core.state import ReWOO\n",
    "from core.planner import planner_agent\n",
    "from core.worker import worker_agent\n",
    "from langgraph.graph import StateGraph, END"
   ]
  },
  {
   "cell_type": "code",
   "execution_count": 3,
   "metadata": {},
   "outputs": [],
   "source": [
    "os.environ[\"OPENAI_API_KEY\"] = getpass(\"OPENAI API Key:\")"
   ]
  },
  {
   "cell_type": "code",
   "execution_count": 4,
   "metadata": {},
   "outputs": [],
   "source": [
    "query = \"What is the hometown of the 2024 australian open winner?\""
   ]
  },
  {
   "cell_type": "code",
   "execution_count": 5,
   "metadata": {},
   "outputs": [],
   "source": [
    "gpt35turbo_llm = ChatOpenAI(model_name=\"gpt-3.5-turbo\", temperature=0, openai_api_key=os.environ[\"OPENAI_API_KEY\"])"
   ]
  },
  {
   "cell_type": "code",
   "execution_count": 6,
   "metadata": {},
   "outputs": [],
   "source": [
    "from core.planner import Planner\n",
    "from textwrap import dedent\n",
    "\n",
    "planner = Planner(\n",
    "    llm=gpt35turbo_llm,\n",
    "    few_shot=dedent(\"\"\"\n",
    "    For example,\n",
    "    Task: Thomas, Toby, and Rebecca worked a total of 157 hours in one week. Thomas worked x\n",
    "    hours. Toby worked 10 hours less than twice what Thomas worked, and Rebecca worked 8 hours\n",
    "    less than Toby. How many hours did Rebecca work?\n",
    "    Plan : Given Thomas worked x hours, translate the problem into algebraic expressions and solve\n",
    "    with Wolfram Alpha. #E1 = WolframAlpha[Solve x + (2x − 10) + ((2x − 10) − 8) = 157]\n",
    "    Plan : Find out the number of hours Thomas worked. #E2 = LLM[What is x, given #E1]\n",
    "    Plan : Calculate the number of hours Rebecca worked. #E3 = Calculator[(2 ∗ #E2 − 10) − 8]\n",
    "    \"\"\")\n",
    ")"
   ]
  },
  {
   "cell_type": "code",
   "execution_count": 7,
   "metadata": {},
   "outputs": [],
   "source": [
    "from langchain_core.tools import BaseTool\n",
    "\n",
    "class CustomSearchTool(BaseTool):\n",
    "    name = \"Google\"\n",
    "    description = \"Worker that searches results from Google. Useful when you need to find short and succinct answers about a specific topic. The input should be a search query.\"\n",
    "\n",
    "    def _run(self, input: str):\n",
    "        return input\n",
    "\n",
    "\n",
    "class CustomLLMTool(BaseTool):\n",
    "    name = \"LLM\"\n",
    "    description = \"A pretrained LLM like yourself. Useful when you need to act with general world knowledge and common sense. Prioritize it when you are confident in solving the problem yourself. Input can be any instruction.\"\n",
    "\n",
    "    def _run(self, input: str):\n",
    "        return input\n",
    "\n",
    "\n",
    "tools = [CustomSearchTool(), CustomLLMTool()]"
   ]
  },
  {
   "cell_type": "code",
   "execution_count": 8,
   "metadata": {},
   "outputs": [],
   "source": [
    "flow = StateGraph(ReWOO)\n",
    "flow.add_node(\"planner_node\", planner_agent)\n",
    "flow.add_node(\"worker_node\", worker_agent)\n",
    "flow.add_edge(\"planner_node\", \"worker_node\")\n",
    "flow.add_edge(\"worker_node\", END)\n",
    "flow.set_entry_point(\"planner_node\")\n",
    "app = flow.compile()"
   ]
  },
  {
   "cell_type": "code",
   "execution_count": 9,
   "metadata": {},
   "outputs": [
    {
     "name": "stdout",
     "output_type": "stream",
     "text": [
      "'planner_node'\n",
      "{'#E1': {'args': '2024 Australian Open winner',\n",
      "         'plan': 'Use Google to search for the 2024 Australian Open winner.',\n",
      "         'tool_name': 'Google'},\n",
      " '#E2': {'args': 'What is the name of the 2024 Australian Open winner, given '\n",
      "                 '#E1',\n",
      "         'plan': 'Retrieve the name of the 2024 Australian Open winner from '\n",
      "                 'the search results.',\n",
      "         'tool_name': 'LLM'},\n",
      " '#E3': {'args': 'hometown of 2024 Australian Open winner, given #E2',\n",
      "         'plan': 'Use Google to search for the hometown of the 2024 Australian '\n",
      "                 'Open winner.',\n",
      "         'tool_name': 'Google'},\n",
      " '#E4': {'args': 'What is the hometown of the 2024 Australian Open winner, '\n",
      "                 'given #E3',\n",
      "         'plan': 'Retrieve the hometown of the 2024 Australian Open winner '\n",
      "                 'from the search results.',\n",
      "         'tool_name': 'LLM'}}\n",
      "'worker_node'\n",
      "{'#E1': {'args': '2024 Australian Open winner',\n",
      "         'evidence': '2024 Australian Open winner',\n",
      "         'plan': 'Use Google to search for the 2024 Australian Open winner.',\n",
      "         'tool_name': 'Google'},\n",
      " '#E2': {'args': 'What is the name of the 2024 Australian Open winner, given '\n",
      "                 '#E1',\n",
      "         'evidence': 'What is the name of the 2024 Australian Open winner, '\n",
      "                     'given 2024 Australian Open winner',\n",
      "         'plan': 'Retrieve the name of the 2024 Australian Open winner from '\n",
      "                 'the search results.',\n",
      "         'tool_name': 'LLM'},\n",
      " '#E3': {'args': 'hometown of 2024 Australian Open winner, given #E2',\n",
      "         'evidence': 'hometown of 2024 Australian Open winner, given What is '\n",
      "                     'the name of the 2024 Australian Open winner, given 2024 '\n",
      "                     'Australian Open winner',\n",
      "         'plan': 'Use Google to search for the hometown of the 2024 Australian '\n",
      "                 'Open winner.',\n",
      "         'tool_name': 'Google'},\n",
      " '#E4': {'args': 'What is the hometown of the 2024 Australian Open winner, '\n",
      "                 'given #E3',\n",
      "         'evidence': 'What is the hometown of the 2024 Australian Open winner, '\n",
      "                     'given hometown of 2024 Australian Open winner, given '\n",
      "                     'What is the name of the 2024 Australian Open winner, '\n",
      "                     'given 2024 Australian Open winner',\n",
      "         'plan': 'Retrieve the hometown of the 2024 Australian Open winner '\n",
      "                 'from the search results.',\n",
      "         'tool_name': 'LLM'}}\n",
      "'__end__'\n",
      "{'#E1': {'args': '2024 Australian Open winner',\n",
      "         'evidence': '2024 Australian Open winner',\n",
      "         'plan': 'Use Google to search for the 2024 Australian Open winner.',\n",
      "         'tool_name': 'Google'},\n",
      " '#E2': {'args': 'What is the name of the 2024 Australian Open winner, given '\n",
      "                 '#E1',\n",
      "         'evidence': 'What is the name of the 2024 Australian Open winner, '\n",
      "                     'given 2024 Australian Open winner',\n",
      "         'plan': 'Retrieve the name of the 2024 Australian Open winner from '\n",
      "                 'the search results.',\n",
      "         'tool_name': 'LLM'},\n",
      " '#E3': {'args': 'hometown of 2024 Australian Open winner, given #E2',\n",
      "         'evidence': 'hometown of 2024 Australian Open winner, given What is '\n",
      "                     'the name of the 2024 Australian Open winner, given 2024 '\n",
      "                     'Australian Open winner',\n",
      "         'plan': 'Use Google to search for the hometown of the 2024 Australian '\n",
      "                 'Open winner.',\n",
      "         'tool_name': 'Google'},\n",
      " '#E4': {'args': 'What is the hometown of the 2024 Australian Open winner, '\n",
      "                 'given #E3',\n",
      "         'evidence': 'What is the hometown of the 2024 Australian Open winner, '\n",
      "                     'given hometown of 2024 Australian Open winner, given '\n",
      "                     'What is the name of the 2024 Australian Open winner, '\n",
      "                     'given 2024 Australian Open winner',\n",
      "         'plan': 'Retrieve the hometown of the 2024 Australian Open winner '\n",
      "                 'from the search results.',\n",
      "         'tool_name': 'LLM'}}\n"
     ]
    }
   ],
   "source": [
    "# Iterate over the stream of outputs\n",
    "for output in app.stream(ReWOO(query=query, planner=planner, tools=tools)):\n",
    "    # Each output is a dictionary where keys are node names and values are outputs\n",
    "    for node, state_output in output.items():\n",
    "        pprint(node)\n",
    "        pprint(state_output[\"planner\"].plans)"
   ]
  },
  {
   "cell_type": "code",
   "execution_count": 10,
   "metadata": {},
   "outputs": [
    {
     "data": {
      "text/plain": [
       "{'#E1': {'plan': 'Use Google to search for the 2024 Australian Open winner.',\n",
       "  'tool_name': 'Google',\n",
       "  'args': '2024 Australian Open winner',\n",
       "  'evidence': '2024 Australian Open winner'},\n",
       " '#E2': {'plan': 'Retrieve the name of the 2024 Australian Open winner from the search results.',\n",
       "  'tool_name': 'LLM',\n",
       "  'args': 'What is the name of the 2024 Australian Open winner, given #E1',\n",
       "  'evidence': 'What is the name of the 2024 Australian Open winner, given 2024 Australian Open winner'},\n",
       " '#E3': {'plan': 'Use Google to search for the hometown of the 2024 Australian Open winner.',\n",
       "  'tool_name': 'Google',\n",
       "  'args': 'hometown of 2024 Australian Open winner, given #E2',\n",
       "  'evidence': 'hometown of 2024 Australian Open winner, given What is the name of the 2024 Australian Open winner, given 2024 Australian Open winner'},\n",
       " '#E4': {'plan': 'Retrieve the hometown of the 2024 Australian Open winner from the search results.',\n",
       "  'tool_name': 'LLM',\n",
       "  'args': 'What is the hometown of the 2024 Australian Open winner, given #E3',\n",
       "  'evidence': 'What is the hometown of the 2024 Australian Open winner, given hometown of 2024 Australian Open winner, given What is the name of the 2024 Australian Open winner, given 2024 Australian Open winner'}}"
      ]
     },
     "execution_count": 10,
     "metadata": {},
     "output_type": "execute_result"
    }
   ],
   "source": [
    "state_output[\"planner\"].plans"
   ]
  }
 ],
 "metadata": {
  "kernelspec": {
   "display_name": "env",
   "language": "python",
   "name": "python3"
  },
  "language_info": {
   "codemirror_mode": {
    "name": "ipython",
    "version": 3
   },
   "file_extension": ".py",
   "mimetype": "text/x-python",
   "name": "python",
   "nbconvert_exporter": "python",
   "pygments_lexer": "ipython3",
   "version": "3.9.5"
  }
 },
 "nbformat": 4,
 "nbformat_minor": 2
}
